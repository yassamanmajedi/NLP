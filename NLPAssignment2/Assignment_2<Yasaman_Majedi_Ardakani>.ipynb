{
 "cells": [
  {
   "cell_type": "markdown",
   "id": "981ce393",
   "metadata": {
    "id": "981ce393"
   },
   "source": [
    "# Introduction to Natural Language Processing: Assignment 2\n",
    "\n",
    "In this exercise we'll practice features extraction using Tf-Idf and SpaCy as well as multiclass text classification using the word embedding technique.\n",
    "\n",
    "- You can use built-in Python packages, spaCy, scikit-learn, Numpy and Pandas.\n",
    "- Please comment your code\n",
    "- Submissions are due Tuesdays at 23:59 **only** on eCampus: **Assignmnets >> Student Submissions >> Assignment 3 (Deadline: 12.11.2024, at 23:59)**\n",
    "\n",
    "- Name the file aproppriately: \"Assignment_2_\\<Your_Name\\>.ipynb\" and submit only the Jupyter Notebook file.\n",
    "- If you are working in a group of two, please have the names of both of the members in the file name.\n",
    "- Please use relative path, your code should work on my computer if the Jupyter Notebook and the file are both in the same directory.\n",
    "\n",
    "Example: file_name = bbc-news.csv, **DON'T use:** /Users/ComputerName/Username/Documents/.../bbc-news.csv"
   ]
  },
  {
   "cell_type": "markdown",
   "id": "d1325c5b",
   "metadata": {
    "id": "d1325c5b"
   },
   "source": [
    "### Task 1 (2 points)\n",
    "\n",
    "Write a function `extract_proper_nouns(my_file_name)` that takes a file name (my_file_name.txt) as input and returns a list containing all proper nouns with more than one token.\n",
    "\n",
    "**Example:**\n",
    "\n",
    "text = \"Honk Kong and Japan are two countries in Asia and New York is the largest city in the world\"\n",
    "\n",
    "return = `[\"New York\", \"Hong Kong\"]` **(Note: it should not return \"Japan\")**"
   ]
  },
  {
   "cell_type": "code",
   "execution_count": 5,
   "id": "62d26341",
   "metadata": {
    "id": "62d26341"
   },
   "outputs": [],
   "source": [
    "import spacy"
   ]
  },
  {
   "cell_type": "code",
   "execution_count": 9,
   "id": "4c3b7709",
   "metadata": {},
   "outputs": [
    {
     "name": "stdout",
     "output_type": "stream",
     "text": [
      "Collecting en-core-web-sm==3.8.0\n",
      "  Downloading https://github.com/explosion/spacy-models/releases/download/en_core_web_sm-3.8.0/en_core_web_sm-3.8.0-py3-none-any.whl (12.8 MB)\n",
      "\u001b[2K     \u001b[90m━━━━━━━━━━━━━━━━━━━━━━━━━━━━━━━━━━━━━━━━\u001b[0m \u001b[32m12.8/12.8 MB\u001b[0m \u001b[31m11.3 MB/s\u001b[0m eta \u001b[36m0:00:00\u001b[0ma \u001b[36m0:00:01\u001b[0m\n",
      "\u001b[?25hInstalling collected packages: en-core-web-sm\n",
      "Successfully installed en-core-web-sm-3.8.0\n",
      "\n",
      "\u001b[1m[\u001b[0m\u001b[34;49mnotice\u001b[0m\u001b[1;39;49m]\u001b[0m\u001b[39;49m A new release of pip is available: \u001b[0m\u001b[31;49m24.2\u001b[0m\u001b[39;49m -> \u001b[0m\u001b[32;49m24.3.1\u001b[0m\n",
      "\u001b[1m[\u001b[0m\u001b[34;49mnotice\u001b[0m\u001b[1;39;49m]\u001b[0m\u001b[39;49m To update, run: \u001b[0m\u001b[32;49mpip install --upgrade pip\u001b[0m\n",
      "\u001b[38;5;2m✔ Download and installation successful\u001b[0m\n",
      "You can now load the package via spacy.load('en_core_web_sm')\n"
     ]
    }
   ],
   "source": [
    "!python -m spacy download en_core_web_sm"
   ]
  },
  {
   "cell_type": "code",
   "execution_count": 10,
   "id": "92133a54",
   "metadata": {
    "id": "92133a54"
   },
   "outputs": [],
   "source": [
    "nlp = spacy.load(\"en_core_web_sm\")\n",
    "def extract_proper_nouns(my_file_name):\n",
    "    several_token_propn = []\n",
    "    # here comes your code\n",
    "\n",
    "    with open(my_file_name, 'r') as file:\n",
    "        text = file.read()\n",
    "\n",
    "    #Processing the code\n",
    "    doc = nlp(text)\n",
    "    for entity in doc.ents:\n",
    "      #If the entities in doc are Geopolitical and their tokens are larger than 1 add it to our list\n",
    "        if entity.label_ == \"GPE\" and len (entity.text.split()) > 1:\n",
    "            several_token_propn.append(entity.text)\n",
    "\n",
    "    return(several_token_propn)"
   ]
  },
  {
   "cell_type": "markdown",
   "id": "-uy_E937gBVT",
   "metadata": {
    "id": "-uy_E937gBVT"
   },
   "source": []
  },
  {
   "cell_type": "markdown",
   "id": "8d0a669e",
   "metadata": {
    "id": "8d0a669e"
   },
   "source": [
    "### Task 2 (3 points)\n",
    "\n",
    "Write a function `common_lemma(my_file_name)` that takes a file name (my_file_name.txt) as input and returns a Python dictionary with lemmas as `key` and the `value` that should contain a list with both verbs and nouns sharing the same lemma.\n",
    "\n",
    "**Examples:**\n",
    "\n",
    "1.\n",
    "text = \"When users google for a word or any query, their system internally runs a pipeline in order to process what the person is querying.\"\n",
    "\n",
    "return = `{\"query\": [\"query\", \"querying\"]}`\n",
    "\n",
    "2.\n",
    "text = I really loved the movie and show, the movie was showing reality but it showed sometimes nonesense!\n",
    "\n",
    "return = `{\"show\": [\"show\", \"showing\", \"showed\"]}` **(Note: it should not return \"movie\" because both \"movie\"s are NOUN)**"
   ]
  },
  {
   "cell_type": "code",
   "execution_count": 11,
   "id": "8fab5733",
   "metadata": {
    "id": "8fab5733"
   },
   "outputs": [],
   "source": [
    "import spacy\n",
    "nlp = spacy.load(\"en_core_web_sm\")\n",
    "\n",
    "def common_lemma(my_file_name):\n",
    "    lemma_dict = {}\n",
    "\n",
    "    with open(my_file_name, 'r') as file:\n",
    "        text = file.read()\n",
    "\n",
    "\n",
    "    doc = nlp(text)\n",
    "\n",
    "    for token in doc:\n",
    "            # Check if the token is either a noun or a verb\n",
    "            if token.pos_ in {\"NOUN\", \"VERB\"}:\n",
    "                lemma = token.lemma_\n",
    "\n",
    "                # Initialize the lemma entry if not present\n",
    "                if lemma not in lemma_dict:\n",
    "                    lemma_dict[lemma] = {\"tokens\": set(), \"noun\": False, \"verb\": False}\n",
    "\n",
    "                # Add the token's text to the tokens set\n",
    "                lemma_dict[lemma][\"tokens\"].add(token.text)\n",
    "\n",
    "                # Set flags for whether this lemma has noun or verb forms\n",
    "                if token.pos_ == \"NOUN\":\n",
    "                    lemma_dict[lemma][\"noun\"] = True\n",
    "                elif token.pos_ == \"VERB\":\n",
    "                    lemma_dict[lemma][\"verb\"] = True\n",
    "\n",
    "        # Filter lemmas that have both noun and verb forms\n",
    "    result = {lemma: list(data[\"tokens\"]) for lemma, data in lemma_dict.items() if data[\"noun\"] and data[\"verb\"]}\n",
    "\n",
    "    return result\n",
    "\n",
    "\n"
   ]
  },
  {
   "cell_type": "markdown",
   "id": "d46d27e0-56fc-40b9-b510-b2d94c90bcf3",
   "metadata": {
    "id": "d46d27e0-56fc-40b9-b510-b2d94c90bcf3"
   },
   "source": [
    "### Task 3 (1 point)\n",
    "\n",
    "Load the data `bbc-text.csv`; This datata consists of 2225 documents from the BBC news website corresponding to stories from 2004-2005."
   ]
  },
  {
   "cell_type": "code",
   "execution_count": 12,
   "id": "fac56bf9-aba8-48c7-9dcd-a46d53426f82",
   "metadata": {
    "id": "fac56bf9-aba8-48c7-9dcd-a46d53426f82"
   },
   "outputs": [],
   "source": [
    "# Here comes your code\n",
    "import pandas as pd\n",
    "file_path = 'bbc-news.csv'\n",
    "data = pd.read_csv(file_path)"
   ]
  },
  {
   "cell_type": "code",
   "execution_count": 13,
   "id": "APqnK2d-jAss",
   "metadata": {
    "colab": {
     "base_uri": "https://localhost:8080/"
    },
    "id": "APqnK2d-jAss",
    "outputId": "9cc4238e-447f-4a49-c9e3-1a5a04bfe6c6"
   },
   "outputs": [
    {
     "name": "stdout",
     "output_type": "stream",
     "text": [
      "        category                                               text\n",
      "0           tech  tv future in the hands of viewers with home th...\n",
      "1       business  worldcom boss  left books alone  former worldc...\n",
      "2          sport  tigers wary of farrell  gamble  leicester say ...\n",
      "3          sport  yeading face newcastle in fa cup premiership s...\n",
      "4  entertainment  ocean s twelve raids box office ocean s twelve...\n"
     ]
    }
   ],
   "source": [
    "print(data.head())"
   ]
  },
  {
   "cell_type": "code",
   "execution_count": 14,
   "id": "PadhloniJRmy",
   "metadata": {
    "colab": {
     "base_uri": "https://localhost:8080/"
    },
    "id": "PadhloniJRmy",
    "outputId": "30aaa96c-7527-4995-e0b8-08bb4483bb9b"
   },
   "outputs": [
    {
     "name": "stdout",
     "output_type": "stream",
     "text": [
      "           category                                               text\n",
      "0              tech  tv future in the hands of viewers with home th...\n",
      "1          business  worldcom boss  left books alone  former worldc...\n",
      "2             sport  tigers wary of farrell  gamble  leicester say ...\n",
      "3             sport  yeading face newcastle in fa cup premiership s...\n",
      "4     entertainment  ocean s twelve raids box office ocean s twelve...\n",
      "...             ...                                                ...\n",
      "2220       business  cars pull down us retail figures us retail sal...\n",
      "2221       politics  kilroy unveils immigration policy ex-chatshow ...\n",
      "2222  entertainment  rem announce new glasgow concert us band rem h...\n",
      "2223       politics  how political squabbles snowball it s become c...\n",
      "2224          sport  souness delight at euro progress boss graeme s...\n",
      "\n",
      "[2225 rows x 2 columns]\n"
     ]
    }
   ],
   "source": [
    "print(data)"
   ]
  },
  {
   "cell_type": "markdown",
   "id": "32d6bf1c-a802-4ca6-a74e-ace4fd914626",
   "metadata": {
    "id": "32d6bf1c-a802-4ca6-a74e-ace4fd914626"
   },
   "source": [
    "### Task 4 (1 point)\n",
    "\n",
    "Show how many articles we have for each topical area (class label) in the dataset using a plot."
   ]
  },
  {
   "cell_type": "code",
   "execution_count": 16,
   "id": "c93ef9d8-52c2-4508-ad94-91525476d9a4",
   "metadata": {
    "colab": {
     "base_uri": "https://localhost:8080/",
     "height": 716
    },
    "id": "c93ef9d8-52c2-4508-ad94-91525476d9a4",
    "outputId": "8063a683-7045-4734-82d3-55d5786b12f6"
   },
   "outputs": [
    {
     "name": "stderr",
     "output_type": "stream",
     "text": [
      "/var/folders/l4/jfvbkqp14fd8m7dlf36rj__r0000gn/T/ipykernel_3003/3555837114.py:6: FutureWarning: \n",
      "\n",
      "Passing `palette` without assigning `hue` is deprecated and will be removed in v0.14.0. Assign the `x` variable to `hue` and set `legend=False` for the same effect.\n",
      "\n",
      "  sns.barplot(x=category_counts.index, y=category_counts.values, palette=\"viridis\")\n"
     ]
    },
    {
     "data": {
      "image/png": "[encoded data removed]",
      "text/plain": [
       "<Figure size 1000x600 with 1 Axes>"
      ]
     },
     "metadata": {},
     "output_type": "display_data"
    }
   ],
   "source": [
    "category_counts = data['category'].value_counts()\n",
    "import pandas as pd\n",
    "import matplotlib.pyplot as plt\n",
    "import seaborn as sns\n",
    "plt.figure(figsize=(10, 6))\n",
    "sns.barplot(x=category_counts.index, y=category_counts.values, palette=\"viridis\")\n",
    "plt.title('Number of Articles per Topical Area')\n",
    "plt.xlabel('Topical Area')\n",
    "plt.ylabel('Number of Articles')\n",
    "plt.xticks(rotation=45)\n",
    "plt.show()"
   ]
  },
  {
   "cell_type": "markdown",
   "id": "cd667360-ae62-4f70-8236-9e9d11ab29d7",
   "metadata": {
    "id": "cd667360-ae62-4f70-8236-9e9d11ab29d7"
   },
   "source": [
    "### Task 5 (2 point)\n",
    "\n",
    "Preprocessing: Define two following functions and apply them to the dataset:\n",
    "1. Remove punctuation\n",
    "2. Remove any numbers"
   ]
  },
  {
   "cell_type": "code",
   "execution_count": 17,
   "id": "8f3d69ff-c80a-468e-a6be-af5538a8c2b9",
   "metadata": {
    "id": "8f3d69ff-c80a-468e-a6be-af5538a8c2b9"
   },
   "outputs": [],
   "source": [
    "import re\n",
    "def remove_punctuation(corpus):\n",
    "\n",
    "    cleaned_corpus = re.sub(r'[^\\w\\s]', '', corpus)\n",
    "    return(cleaned_corpus)\n",
    "\n",
    "def remove_numbers(corpus):\n",
    "    # Here comes your code\n",
    "    cleaned_corpus = re.sub(r'\\d+', '', corpus)\n",
    "    return(cleaned_corpus)\n",
    "\n",
    "data['text'] = data['text'].apply(remove_punctuation).apply(remove_numbers)\n"
   ]
  },
  {
   "cell_type": "code",
   "execution_count": 18,
   "id": "XD46YDVhlg0J",
   "metadata": {
    "colab": {
     "base_uri": "https://localhost:8080/",
     "height": 204
    },
    "id": "XD46YDVhlg0J",
    "outputId": "3d0aad99-4a62-4c5c-e16a-81be0aa51b07"
   },
   "outputs": [
    {
     "data": {
      "text/html": [
       "<div>\n",
       "<style scoped>\n",
       "    .dataframe tbody tr th:only-of-type {\n",
       "        vertical-align: middle;\n",
       "    }\n",
       "\n",
       "    .dataframe tbody tr th {\n",
       "        vertical-align: top;\n",
       "    }\n",
       "\n",
       "    .dataframe thead th {\n",
       "        text-align: right;\n",
       "    }\n",
       "</style>\n",
       "<table border=\"1\" class=\"dataframe\">\n",
       "  <thead>\n",
       "    <tr style=\"text-align: right;\">\n",
       "      <th></th>\n",
       "      <th>category</th>\n",
       "      <th>text</th>\n",
       "    </tr>\n",
       "  </thead>\n",
       "  <tbody>\n",
       "    <tr>\n",
       "      <th>0</th>\n",
       "      <td>tech</td>\n",
       "      <td>tv future in the hands of viewers with home th...</td>\n",
       "    </tr>\n",
       "    <tr>\n",
       "      <th>1</th>\n",
       "      <td>business</td>\n",
       "      <td>worldcom boss  left books alone  former worldc...</td>\n",
       "    </tr>\n",
       "    <tr>\n",
       "      <th>2</th>\n",
       "      <td>sport</td>\n",
       "      <td>tigers wary of farrell  gamble  leicester say ...</td>\n",
       "    </tr>\n",
       "    <tr>\n",
       "      <th>3</th>\n",
       "      <td>sport</td>\n",
       "      <td>yeading face newcastle in fa cup premiership s...</td>\n",
       "    </tr>\n",
       "    <tr>\n",
       "      <th>4</th>\n",
       "      <td>entertainment</td>\n",
       "      <td>ocean s twelve raids box office ocean s twelve...</td>\n",
       "    </tr>\n",
       "  </tbody>\n",
       "</table>\n",
       "</div>"
      ],
      "text/plain": [
       "        category                                               text\n",
       "0           tech  tv future in the hands of viewers with home th...\n",
       "1       business  worldcom boss  left books alone  former worldc...\n",
       "2          sport  tigers wary of farrell  gamble  leicester say ...\n",
       "3          sport  yeading face newcastle in fa cup premiership s...\n",
       "4  entertainment  ocean s twelve raids box office ocean s twelve..."
      ]
     },
     "execution_count": 18,
     "metadata": {},
     "output_type": "execute_result"
    }
   ],
   "source": [
    "data.head()"
   ]
  },
  {
   "cell_type": "markdown",
   "id": "ba0df6be",
   "metadata": {
    "id": "ba0df6be"
   },
   "source": [
    "### Task 6.1 (1 points)\n",
    "\n",
    "Split the data into training and test set (70% and 30%) using scikit-learn, shuffle it, and set the `seed=101 (random_state)`.\n",
    "\n",
    "**NOTE:** If working with this dataset is not computationaly possible for you, you can work only with a subset of the dataset (i.e., the first 1000 rows) and use only the first 150 tokens for each article. You should point this out in your code."
   ]
  },
  {
   "cell_type": "code",
   "execution_count": 20,
   "id": "3619b0ed-2213-41de-bf9f-95c97344f038",
   "metadata": {
    "colab": {
     "base_uri": "https://localhost:8080/"
    },
    "id": "3619b0ed-2213-41de-bf9f-95c97344f038",
    "outputId": "f3a14101-0555-43a6-a61a-7e0c7ce5c97f"
   },
   "outputs": [
    {
     "name": "stdout",
     "output_type": "stream",
     "text": [
      "Training set size: 1557\n",
      "Test set size: 668\n",
      "920     oscar nominees lack pulling power this year s ...\n",
      "1500    smartphones suffer skulls attack owners of som...\n",
      "1711    souness backs smith for scotland graeme sounes...\n",
      "1978    venezuela reviews foreign deals venezuela is t...\n",
      "1125    parmalat founder offers apology the founder an...\n",
      "Name: text, dtype: object\n"
     ]
    }
   ],
   "source": [
    "from sklearn.model_selection import train_test_split\n",
    "# data = data.head(1000)\n",
    "# def limit_tokens(text, max_tokens=150):\n",
    "#     tokens = text.split()  # Split the text into tokens\n",
    "#     return ' '.join(tokens[:max_tokens])  # Join the first 150 tokens\n",
    "# data['text'] = data['text'].apply(lambda x: limit_tokens(x, 150))\n",
    "X = data['text']\n",
    "y = data['category']\n",
    "X_train, X_test, y_train, y_test = train_test_split(X, y, test_size=0.3, random_state=101, shuffle=True)\n",
    "print(f\"Training set size: {len(X_train)}\")\n",
    "print(f\"Test set size: {len(X_test)}\")\n",
    "print(X_train.head())\n"
   ]
  },
  {
   "cell_type": "markdown",
   "id": "4f9e7e25",
   "metadata": {
    "id": "4f9e7e25"
   },
   "source": [
    "### Task 6.2 (3 points)\n",
    "\n",
    "### **Training models on TF-IDF vectors:**\n",
    "\n",
    "a) Convert each article in your data splits to a vector representation using the tf-idf-vectorizer.\n",
    "\n",
    "b) Using the vectors from the previous step, train the `MLPClassifier` and another model of your choice from the scikit-learn library.\n",
    "\n",
    "c) Test both of your models on the test set from Task 6.1."
   ]
  },
  {
   "cell_type": "code",
   "execution_count": 25,
   "id": "667054a1",
   "metadata": {
    "colab": {
     "base_uri": "https://localhost:8080/",
     "height": 1000
    },
    "id": "667054a1",
    "outputId": "46d7f7b1-0b50-437f-d46d-05c300b5b6b1"
   },
   "outputs": [
    {
     "name": "stdout",
     "output_type": "stream",
     "text": [
      "MLPClassifier Results:\n",
      "               precision    recall  f1-score   support\n",
      "\n",
      "     business       0.98      0.99      0.98       155\n",
      "entertainment       0.98      0.97      0.97       117\n",
      "     politics       0.98      0.99      0.98       122\n",
      "        sport       0.99      0.99      0.99       153\n",
      "         tech       0.99      0.98      0.98       121\n",
      "\n",
      "     accuracy                           0.98       668\n",
      "    macro avg       0.98      0.98      0.98       668\n",
      " weighted avg       0.98      0.98      0.98       668\n",
      "\n"
     ]
    },
    {
     "data": {
      "image/png": "[encoded data removed]",
      "text/plain": [
       "<Figure size 640x480 with 2 Axes>"
      ]
     },
     "metadata": {},
     "output_type": "display_data"
    },
    {
     "name": "stdout",
     "output_type": "stream",
     "text": [
      "Accuracy: 0.9835329341317365\n",
      "\n",
      "RandomForestClassifier Results:\n",
      "               precision    recall  f1-score   support\n",
      "\n",
      "     business       0.94      0.96      0.95       155\n",
      "entertainment       0.98      0.91      0.94       117\n",
      "     politics       0.94      0.96      0.95       122\n",
      "        sport       0.96      0.99      0.98       153\n",
      "         tech       0.97      0.97      0.97       121\n",
      "\n",
      "     accuracy                           0.96       668\n",
      "    macro avg       0.96      0.96      0.96       668\n",
      " weighted avg       0.96      0.96      0.96       668\n",
      "\n"
     ]
    },
    {
     "data": {
      "image/png": "[encoded data removed]",
      "text/plain": [
       "<Figure size 640x480 with 2 Axes>"
      ]
     },
     "metadata": {},
     "output_type": "display_data"
    },
    {
     "name": "stdout",
     "output_type": "stream",
     "text": [
      "Accuracy: 0.9595808383233533\n"
     ]
    }
   ],
   "source": [
    "# Here comes your code\n",
    "from sklearn.neural_network import MLPClassifier\n",
    "from sklearn.feature_extraction.text import TfidfVectorizer\n",
    "from sklearn.ensemble import RandomForestClassifier\n",
    "from sklearn.metrics import classification_report, accuracy_score, confusion_matrix\n",
    "from sklearn.preprocessing import LabelEncoder\n",
    "import numpy as np\n",
    "from sklearn import metrics\n",
    "vectorizer = TfidfVectorizer()\n",
    "X_train_tfidf = vectorizer.fit_transform(X_train)\n",
    "X_test_tfidf = vectorizer.transform(X_test)\n",
    "\n",
    "#MLP\n",
    "mlp = MLPClassifier(hidden_layer_sizes=(100,), max_iter=500, random_state=101)\n",
    "mlp.fit(X_train_tfidf, y_train)\n",
    "y_pred_MLP_tfidf = mlp.predict(X_test_tfidf)\n",
    "\n",
    "#RandomForest\n",
    "rf = RandomForestClassifier(n_estimators=100, random_state=101)\n",
    "rf.fit(X_train_tfidf, y_train)\n",
    "y_pred_RF_tfidf = rf.predict(X_test_tfidf)\n",
    "\n",
    "labels = np.unique(y_test)\n",
    "\n",
    "print(\"MLPClassifier Results:\")\n",
    "print(classification_report(y_test, y_pred_MLP_tfidf))\n",
    "confusion_matrix_mlp_tfidf = confusion_matrix(y_test, y_pred_MLP_tfidf)\n",
    "cm_display = metrics.ConfusionMatrixDisplay(confusion_matrix = confusion_matrix_mlp_tfidf, display_labels = labels)\n",
    "cm_display.plot()\n",
    "plt.show()\n",
    "\n",
    "print(f\"Accuracy: {accuracy_score(y_test, y_pred_MLP_tfidf)}\")\n",
    "\n",
    "print(\"\\nRandomForestClassifier Results:\")\n",
    "print(classification_report(y_test, y_pred_RF_tfidf))\n",
    "confusion_matrix_RF_tfidf = confusion_matrix(y_test, y_pred_RF_tfidf)\n",
    "cm_display = metrics.ConfusionMatrixDisplay(confusion_matrix = confusion_matrix_RF_tfidf, display_labels = labels)\n",
    "cm_display.plot()\n",
    "plt.show()\n",
    "print(f\"Accuracy: {accuracy_score(y_test, y_pred_RF_tfidf)}\")\n",
    "\n"
   ]
  },
  {
   "cell_type": "markdown",
   "id": "b1cef728",
   "metadata": {
    "id": "b1cef728"
   },
   "source": [
    "### Task 6.3 (3 points)\n",
    "\n",
    "### **Training models on SpaCy model vector representation:**\n",
    "\n",
    "a) Convert each article in your data splits to a vector representation using the pre-trained spaCy model. (**Hint:** It should be stored as an array)\n",
    "\n",
    "b) Using the vectors from the previous step, train the `MLPClassifier` and another model of your choice from the scikit-learn library.\n",
    "\n",
    "c) Test both of your models on the test set from Task 6.1."
   ]
  },
  {
   "cell_type": "code",
   "execution_count": null,
   "id": "af79bda1",
   "metadata": {
    "colab": {
     "base_uri": "https://localhost:8080/",
     "height": 1000
    },
    "id": "af79bda1",
    "outputId": "4fc81064-a94b-4fd4-afbe-8c2cdfa11ae7"
   },
   "outputs": [],
   "source": [
    "import pandas as pd\n",
    "from sklearn.model_selection import train_test_split\n",
    "from sklearn.neural_network import MLPClassifier\n",
    "from sklearn.ensemble import RandomForestClassifier\n",
    "from sklearn.metrics import classification_report, accuracy_score\n",
    "from sklearn.preprocessing import LabelEncoder\n",
    "import spacy\n",
    "from sklearn import metrics\n",
    "import numpy as np\n",
    "\n",
    "# Load pre-trained spaCy model\n",
    "nlp = spacy.load(\"en_core_web_sm\")\n",
    "# Define the function to convert text to a vector using spaCy\n",
    "def text_to_vector(text):\n",
    "    doc = nlp(text)\n",
    "    return doc.vector  # Return the vector representation of the document\n",
    "\n",
    "\n",
    "# Vectorize the text data using spaCy's pre-trained model\n",
    "X_train_vectors = X_train.apply(text_to_vector).tolist()\n",
    "X_test_vectors = X_test.apply(text_to_vector).tolist()\n",
    "\n",
    "# MLPClassifier\n",
    "mlp = MLPClassifier(hidden_layer_sizes=(100,), max_iter=500, random_state=101)\n",
    "mlp.fit(X_train_vectors, y_train)\n",
    "y_pred_MLP = mlp.predict(X_test_vectors)\n",
    "\n",
    "# RandomForestClassifier\n",
    "rf = RandomForestClassifier(n_estimators=100, random_state=101)\n",
    "rf.fit(X_train_vectors, y_train)\n",
    "y_pred_RF = rf.predict(X_test_vectors)\n",
    "\n",
    "labels = np.unique(y_test)\n",
    "\n",
    "print(\"MLPClassifier Results:\")\n",
    "print(classification_report(y_test, y_pred_MLP))\n",
    "confusion_matrix_mlp=confusion_matrix(y_test, y_pred_MLP)\n",
    "cm_display = metrics.ConfusionMatrixDisplay(confusion_matrix = confusion_matrix_mlp, display_labels = labels)\n",
    "cm_display.plot()\n",
    "plt.show()\n",
    "print(f\"Accuracy: {accuracy_score(y_test, y_pred_MLP)}\")\n",
    "\n",
    "print(\"\\nRandomForestClassifier Results:\")\n",
    "print(classification_report(y_test, y_pred_RF))\n",
    "confusion_matrix_RF = confusion_matrix(y_test, y_pred_RF)\n",
    "cm_display = metrics.ConfusionMatrixDisplay(confusion_matrix = confusion_matrix_RF, display_labels = labels)\n",
    "cm_display.plot()\n",
    "plt.show()\n",
    "print(f\"Accuracy: {accuracy_score(y_test, y_pred_RF)}\")\n"
   ]
  },
  {
   "cell_type": "markdown",
   "id": "88a53269-9dc6-43a8-a071-dc596beee0cf",
   "metadata": {
    "id": "88a53269-9dc6-43a8-a071-dc596beee0cf"
   },
   "source": [
    "### Task 7 (4 points)\n",
    "\n",
    "Using the predictions from the four classifiers, evaluate the models and report accuracy, recall, precision, f1 scores and confusion matrix for each of them. (**Hint:** You should build a confusion matrix for multi-class classification)"
   ]
  },
  {
   "cell_type": "code",
   "execution_count": null,
   "id": "d80276a8-e395-4015-a5d8-00fa7b8e051b",
   "metadata": {
    "id": "d80276a8-e395-4015-a5d8-00fa7b8e051b"
   },
   "outputs": [],
   "source": [
    "# Here comes your code\n",
    "#I did this part in previous section\n",
    "\n",
    "\n"
   ]
  }
 ],
 "metadata": {
  "colab": {
   "provenance": []
  },
  "kernelspec": {
   "display_name": "yasamanmajedi-llyTPa9M",
   "language": "python",
   "name": "python3"
  },
  "language_info": {
   "codemirror_mode": {
    "name": "ipython",
    "version": 3
   },
   "file_extension": ".py",
   "mimetype": "text/x-python",
   "name": "python",
   "nbconvert_exporter": "python",
   "pygments_lexer": "ipython3",
   "version": "3.10.0"
  }
 },
 "nbformat": 4,
 "nbformat_minor": 5
}
